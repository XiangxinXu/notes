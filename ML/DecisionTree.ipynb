{
 "cells": [
  {
   "cell_type": "markdown",
   "metadata": {
    "collapsed": true
   },
   "source": [
    "\n",
    "\n",
    "# 决策树\n",
    "***\n",
    "## 天气决策树\n",
    "我们通过判断$X_{i}$(weather、humidity、wind、temperature)的组合来确定最终是否合适出行（suitable）。\n",
    "\n",
    "|id|weather|humidity|wind|temperature|suitable|\n",
    "|--|-------|--------|----|-----------|--------|\n",
    "|1 |sunny  |low    |yes |cold     |yes    |\n",
    "|2 |sunny  |normal  |yes |high     |no     |\n",
    "|3 |sunny  |high   |no  |high     |no     |\n",
    "|4 |sunny  |high   |yes |cold     |no     |\n",
    "|5 |sunny  |normal  |no  |high     |no     |\n",
    "|6 |rainy  |low    |yes |cold     |no     |\n",
    "|7 |rainy  |normal  |yes |cold     |no     |\n",
    "|8 |rainy  |high   |no  |cold     |yes    |\n",
    "|9 |rainy  |high   |yes |cold     |no     |\n",
    "|10|rainy  |high   |no  |high     |yes     |\n",
    "|11|rainy  |normal  |no  |cold     |no     |\n",
    "|12|cloudy |low    |yes |high     |yes     |\n",
    "|13|cloudy |high   |yes |cold     |no    |\n",
    "|14|cloudy |high   |no  |cold     |no    |\n",
    "|15|cloudy |normal  |no  |high     |yes    |\n",
    "\n",
    "***\n",
    "## 信息熵\n",
    "上表中合适出行的天数为5天，不合适出行10天。信息熵描述了信息的不确定性，此例中便是suitable的两种状态的不确定性，信息熵越大，不确定性越大，若得到确定信息需要输入的信息越多。\n",
    "\n",
    "$$E=-\\sum_{i=1}^{N}P_{i}log_{2}P_{i}$$\n",
    "\n",
    "N是状态数，此例中便是2，对应是否合适出行的yes和no。其中$P_{yes}=\\frac{1}{3}$,\n",
    "$P_{no}=\\frac{2}{3}$。因此，其信息熵\n",
    "\n",
    "$$E=-P_{yes}logP_{yes} - P_{no}logP_{no}=-\\frac{1}{3}\\times log\\frac{1}{3} - \\frac{2}{3}\\times log\\frac{2}{3} = 0.918295834054$$\n",
    "\n",
    "***\n",
    "## 信息增益\n",
    "当选择某个属性$X$（上表中对应的一列）时，确定该属性值后能减少的信息熵的量，就是信息增益，即某属性值确定后，能够给最后的决策减少的不确定性的量。以本例来说，就是当确定了某个属性（例如是否有风wind）后，比如确定了是无风（no），更容易做出最后是否合适出行的结论，因为此时系统的不确定性减少了。你得到了一部分信息输入（是否有风），因而减少了下一步的不确定性，因而系统比起初始状态来说信息熵更小了，而小了多少，就是该属性$X$的信息增益。信息增益越大，给最后做出决策带来的信息量越大。举个极端的栗子，假如上表中的无风都适合出行，有风都不适合出行，那么只要上表中wind值确定了，suitable就确定了，此时wind属性就是信息增益最大的属性，因为它完全消除了系统的不确定性。那么，如何度量信息增益呢？某属性的信息增益等于总的信息熵减去该属性在作出决策方面的信息熵。\n",
    "\n",
    "$$G(A) = E - \\sum_{i = 0}^{m}\\frac{A_{i}}{S}E(A_{i})$$\n",
    "\n",
    "E是系统的信息熵，G(A)是属性A的信息增益。m是A的各个分类的个数（比如wind为2，weather为3),S是总的样本量（本例为15），$A_{i}$是属性A的i分类下的样本量（例如wind的no为5，weather的sunny为5）。$E(A_{i}$为该属性分类在作出决策方面的信息熵。回到刚刚那个极端的例子，若wind的5个no全是合适出门，10个yes全是不合适。则wind的信息增益为：\n",
    "\n",
    "$$G(wind) = 0.918 - \\frac{5}{15}E(A_{no}) - \\frac{10}{15}E(A_{yes})$$\n",
    "\n",
    "$$E(A_{no}) = -P_{yes}logP_{yes} - P_{no}logP_{no}= -1 \\times log1 - 0 \\times log 0 = 0$$\n",
    "\n",
    "$$E(A_{yes}) =  -P_{yes}logP_{yes} - P_{no}logP_{no}= -0 \\times log0 - 1 \\times log 1 = 0 $$\n",
    "\n",
    "$$G(wind) = 0.918 - 0 - 0 = 0.918$$\n",
    "\n",
    "也就是说其信息增益=信息熵，符合刚才说的完全消除了系统的不确定性。\n",
    "\n",
    "为了能最快最准确地得到最后的决策，信息增益越大的属性就应该越靠近根节点。如果是刚刚那个极端的情况，wind就是根节点，而且这一个节点就足够判断最后的结论了，其他的节点都可以减去了。"
   ]
  },
  {
   "cell_type": "code",
   "execution_count": 68,
   "metadata": {
    "collapsed": false
   },
   "outputs": [
    {
     "data": {
      "text/plain": [
       "0.9182958340544896"
      ]
     },
     "execution_count": 68,
     "metadata": {},
     "output_type": "execute_result"
    }
   ],
   "source": [
    "import math\n",
    "\n",
    "def getEntropy(dataset, resultColumnName):\n",
    "    resultList = dataset[resultColumnName].values.tolist()\n",
    "    sampleNum = float(len(resultList))\n",
    "    labelCount = {}\n",
    "    for data in resultList:\n",
    "        if data not in labelCount.keys():\n",
    "            labelCount[data] = 0\n",
    "        labelCount[data] += 1\n",
    "    entropy = 0.0\n",
    "    for label in labelCount:\n",
    "        probability = labelCount[label] / sampleNum\n",
    "        entropy -= probability * math.log(probability, 2)\n",
    "    return entropy\n",
    "getEntropy(getDataset(\"C:/users/n4193/desktop/decisiontree.csv\"), 'suitable')"
   ]
  },
  {
   "cell_type": "code",
   "execution_count": 72,
   "metadata": {
    "collapsed": false,
    "scrolled": false
   },
   "outputs": [
    {
     "data": {
      "text/plain": [
       "'\\xe8\\xbf\\x94\\xe5\\x9b\\x9eDataFrame'"
      ]
     },
     "execution_count": 72,
     "metadata": {},
     "output_type": "execute_result"
    }
   ],
   "source": [
    "def getDataset(s):\n",
    "    '''返回DataFrame'''\n",
    "    df = pd.read_csv(s)\n",
    "    return df.ix[:, 1:]"
   ]
  },
  {
   "cell_type": "code",
   "execution_count": 106,
   "metadata": {
    "collapsed": false
   },
   "outputs": [
    {
     "data": {
      "text/plain": [
       "['weather', 'humidity', 'wind', 'temperature', 'suitable']"
      ]
     },
     "execution_count": 106,
     "metadata": {},
     "output_type": "execute_result"
    }
   ],
   "source": [
    "def getColumnNames(dataSet):\n",
    "    '''以list返回列名'''\n",
    "    \n",
    "    return df.columns.tolist()\n",
    "df=getDataset(\"C:/users/n4193/desktop/decisiontree.csv\")\n",
    "getColumnNames(df)"
   ]
  },
  {
   "cell_type": "code",
   "execution_count": 85,
   "metadata": {
    "collapsed": false
   },
   "outputs": [
    {
     "data": {
      "text/html": [
       "<div>\n",
       "<table border=\"1\" class=\"dataframe\">\n",
       "  <thead>\n",
       "    <tr style=\"text-align: right;\">\n",
       "      <th></th>\n",
       "      <th>weather</th>\n",
       "      <th>humidity</th>\n",
       "      <th>temperature</th>\n",
       "      <th>suitable</th>\n",
       "    </tr>\n",
       "  </thead>\n",
       "  <tbody>\n",
       "    <tr>\n",
       "      <th>0</th>\n",
       "      <td>sunny</td>\n",
       "      <td>low</td>\n",
       "      <td>cold</td>\n",
       "      <td>yes</td>\n",
       "    </tr>\n",
       "    <tr>\n",
       "      <th>1</th>\n",
       "      <td>sunny</td>\n",
       "      <td>normal</td>\n",
       "      <td>high</td>\n",
       "      <td>no</td>\n",
       "    </tr>\n",
       "    <tr>\n",
       "      <th>3</th>\n",
       "      <td>sunny</td>\n",
       "      <td>high</td>\n",
       "      <td>cold</td>\n",
       "      <td>no</td>\n",
       "    </tr>\n",
       "    <tr>\n",
       "      <th>5</th>\n",
       "      <td>rainy</td>\n",
       "      <td>low</td>\n",
       "      <td>cold</td>\n",
       "      <td>no</td>\n",
       "    </tr>\n",
       "    <tr>\n",
       "      <th>6</th>\n",
       "      <td>rainy</td>\n",
       "      <td>normal</td>\n",
       "      <td>cold</td>\n",
       "      <td>no</td>\n",
       "    </tr>\n",
       "    <tr>\n",
       "      <th>8</th>\n",
       "      <td>rainy</td>\n",
       "      <td>high</td>\n",
       "      <td>cold</td>\n",
       "      <td>no</td>\n",
       "    </tr>\n",
       "    <tr>\n",
       "      <th>11</th>\n",
       "      <td>cloudy</td>\n",
       "      <td>low</td>\n",
       "      <td>high</td>\n",
       "      <td>yes</td>\n",
       "    </tr>\n",
       "    <tr>\n",
       "      <th>12</th>\n",
       "      <td>cloudy</td>\n",
       "      <td>high</td>\n",
       "      <td>cold</td>\n",
       "      <td>no</td>\n",
       "    </tr>\n",
       "  </tbody>\n",
       "</table>\n",
       "</div>"
      ],
      "text/plain": [
       "   weather humidity temperature suitable\n",
       "0    sunny      low        cold      yes\n",
       "1    sunny   normal        high       no\n",
       "3    sunny     high        cold       no\n",
       "5    rainy      low        cold       no\n",
       "6    rainy   normal        cold       no\n",
       "8    rainy     high        cold       no\n",
       "11  cloudy      low        high      yes\n",
       "12  cloudy     high        cold       no"
      ]
     },
     "execution_count": 85,
     "metadata": {},
     "output_type": "execute_result"
    }
   ],
   "source": [
    "def splitNode(dataSet, colName, value):\n",
    "    '''返回分叉后的一个分支,DataFrame类型。传入一个DataFrame样本dataSet，\n",
    "    待分支的节点属性colName，和该分支的属性值value'''\n",
    "    \n",
    "    branch =  dataSet[dataSet[colName].isin([value])]\n",
    "    del branch[colName]\n",
    "    return branch\n",
    "\n",
    "splitNode(getDataset(\"C:/users/n4193/desktop/decisiontree.csv\"), 'wind', 'yes')"
   ]
  },
  {
   "cell_type": "code",
   "execution_count": 119,
   "metadata": {
    "collapsed": false
   },
   "outputs": [
    {
     "data": {
      "text/plain": [
       "'humidity'"
      ]
     },
     "execution_count": 119,
     "metadata": {},
     "output_type": "execute_result"
    }
   ],
   "source": [
    "def getColumnNames(dataSet):\n",
    "    '''以list返回列名'''\n",
    "    \n",
    "    return df.columns.tolist()\n",
    "\n",
    "\n",
    "def chooseFeatureToSplit(dataSet):\n",
    "    '''返回最合适分支的属性的列名'''\n",
    "    \n",
    "    colNameList = getColumnNames(dataSet)\n",
    "    resultColumnName = colNameList[-1]\n",
    "    colInfoGain = 0.0\n",
    "    feature = colNameList[0]\n",
    "    for col in colNameList:\n",
    "        \n",
    "        #最后一列是结果，不计算\n",
    "        if col == resultColumnName:\n",
    "            continue\n",
    "            \n",
    "        valueSet = set(dataSet[col].values)\n",
    "        columnEntropy = 0.0;\n",
    "        \n",
    "        for branch in valueSet:\n",
    "            df = dataSet[dataSet[col].isin([branch])]\n",
    "            probCoefficient = len(df) / float(len(dataSet))\n",
    "            columnEntropy += probCoefficient * getEntropy(df, resultColumnName)\n",
    "            \n",
    "        currentInfoGain = getEntropy(dataSet, resultColumnName) - columnEntropy\n",
    "        if currentInfoGain > colInfoGain:\n",
    "            colInfoGain = currentInfoGain\n",
    "            feature = col\n",
    "            \n",
    "    return feature\n",
    "df = splitNode(getDataset(\"C:/users/n4193/desktop/decisiontree.csv\"), 'wind', 'yes')\n",
    "getColumnNames(df)\n",
    "chooseFeatureToSplit(df)"
   ]
  },
  {
   "cell_type": "code",
   "execution_count": null,
   "metadata": {
    "collapsed": true
   },
   "outputs": [],
   "source": [
    ""
   ]
  },
  {
   "cell_type": "markdown",
   "metadata": {
    "collapsed": false
   },
   "source": [
    "import pandas as pd\n",
    "df = pd.read_csv(\"C:/users/n4193/desktop/decisiontree.csv\")\n",
    "\n",
    "set(df['wind'].values)"
   ]
  },
  {
   "cell_type": "code",
   "execution_count": 109,
   "metadata": {
    "collapsed": false
   },
   "outputs": [
    {
     "data": {
      "text/plain": [
       "0.8112781244591327"
      ]
     },
     "execution_count": 109,
     "metadata": {},
     "output_type": "execute_result"
    }
   ],
   "source": [
    "import math\n",
    "2 - math.log(3, 2) * 3 / 4"
   ]
  }
 ],
 "metadata": {
  "kernelspec": {
   "display_name": "Python [Root]",
   "language": "python",
   "name": "Python [Root]"
  },
  "language_info": {
   "codemirror_mode": {
    "name": "ipython",
    "version": 2.0
   },
   "file_extension": ".py",
   "mimetype": "text/x-python",
   "name": "python",
   "nbconvert_exporter": "python",
   "pygments_lexer": "ipython2",
   "version": "2.7.12"
  }
 },
 "nbformat": 4,
 "nbformat_minor": 0
}